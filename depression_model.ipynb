{
  "cells": [
    {
      "cell_type": "code",
      "execution_count": null,
      "metadata": {
        "id": "agez6SFtTfXH"
      },
      "outputs": [],
      "source": [
        "#Import scikit-learn dataset library\n",
        "from sklearn import datasets\n",
        "from google.colab import files\n",
        "import pandas as pd\n",
        "\n"
      ]
    },
    {
      "cell_type": "code",
      "execution_count": null,
      "metadata": {
        "id": "ChqNGdyVwmft"
      },
      "outputs": [],
      "source": [
        "df=pd.read_csv(\"depressionDataset.csv\")"
      ]
    },
    {
      "cell_type": "code",
      "execution_count": null,
      "metadata": {
        "colab": {
          "base_uri": "https://localhost:8080/"
        },
        "id": "N37u2oSlhwZ-",
        "outputId": "5c5a31ff-3ea9-4975-b06d-ab728563cc7a"
      },
      "outputs": [
        {
          "name": "stdout",
          "output_type": "stream",
          "text": [
            "        id   q1   q2  ...                 time  period.name           start.time\n",
            "0      1.0  3.0  2.0  ...  2017-01-22 20:11:59      evening  2017-01-09 07:22:37\n",
            "1      2.0  0.0  3.0  ...  2017-02-08 22:53:06      evening  2017-01-09 07:22:37\n",
            "2      3.0  0.0  0.0  ...  2017-02-08 08:00:46      morning  2017-01-09 07:22:37\n",
            "3      4.0  2.0  1.0  ...  2017-01-22 14:01:25       midday  2017-01-09 07:22:37\n",
            "4      5.0  1.0  3.0  ...  2017-01-21 15:37:24       midday  2017-01-09 07:22:37\n",
            "...    ...  ...  ...  ...                  ...          ...                  ...\n",
            "16145  NaN  NaN  NaN  ...  2017-02-04 10:44:56      morning  2017-01-07 18:55:29\n",
            "16146  NaN  NaN  NaN  ...  2017-01-29 22:00:47      evening  2017-01-07 18:55:29\n",
            "16147  NaN  NaN  NaN  ...  2017-01-18 18:30:06      evening  2017-01-07 18:55:29\n",
            "16148  NaN  NaN  NaN  ...  2017-01-22 10:36:42      morning  2017-01-07 18:55:29\n",
            "16149  NaN  NaN  NaN  ...  2017-01-08 15:01:18       midday  2017-01-07 18:55:29\n",
            "\n",
            "[16150 rows x 16 columns]\n"
          ]
        }
      ],
      "source": [
        "print(df)"
      ]
    },
    {
      "cell_type": "code",
      "execution_count": null,
      "metadata": {
        "id": "It1xvRfgwasv"
      },
      "outputs": [],
      "source": [
        "df.drop(['time','period.name','start.time','score'],axis='columns',inplace=True)"
      ]
    },
    {
      "cell_type": "code",
      "execution_count": null,
      "metadata": {
        "colab": {
          "base_uri": "https://localhost:8080/"
        },
        "id": "8MTaKD3CxuTC",
        "outputId": "c4d9a3c4-48aa-4afa-8e2f-dcf788e8fda6"
      },
      "outputs": [
        {
          "data": {
            "text/plain": [
              "<bound method NDFrame.head of         id   q1   q2   q3   q4   q5   q6   q7   q8   q9  q10  class\n",
              "0      1.0  3.0  2.0  2.0  2.0  3.0  0.0  0.0  0.0  0.0  3.0    3.0\n",
              "1      2.0  0.0  3.0  0.0  0.0  0.0  3.0  0.0  0.0  0.0  0.0    1.0\n",
              "2      3.0  0.0  0.0  0.0  0.0  0.0  0.0  0.0  0.0  0.0  0.0    0.0\n",
              "3      4.0  2.0  1.0  1.0  2.0  0.0  0.0  2.0  3.0  0.0  3.0    2.0\n",
              "4      5.0  1.0  3.0  1.0  1.0  2.0  1.0  2.0  3.0  0.0  1.0    3.0\n",
              "...    ...  ...  ...  ...  ...  ...  ...  ...  ...  ...  ...    ...\n",
              "16145  NaN  NaN  NaN  NaN  NaN  NaN  NaN  NaN  NaN  NaN  NaN    NaN\n",
              "16146  NaN  NaN  NaN  NaN  NaN  NaN  NaN  NaN  NaN  NaN  NaN    NaN\n",
              "16147  NaN  NaN  NaN  NaN  NaN  NaN  NaN  NaN  NaN  NaN  NaN    NaN\n",
              "16148  NaN  NaN  NaN  NaN  NaN  NaN  NaN  NaN  NaN  NaN  NaN    NaN\n",
              "16149  NaN  NaN  NaN  NaN  NaN  NaN  NaN  NaN  NaN  NaN  NaN    NaN\n",
              "\n",
              "[16150 rows x 12 columns]>"
            ]
          },
          "execution_count": 123,
          "metadata": {},
          "output_type": "execute_result"
        }
      ],
      "source": [
        "df.head"
      ]
    },
    {
      "cell_type": "code",
      "execution_count": null,
      "metadata": {
        "id": "-8nsrA331wg7"
      },
      "outputs": [],
      "source": [
        "df.dropna(inplace = True)"
      ]
    },
    {
      "cell_type": "code",
      "execution_count": null,
      "metadata": {
        "colab": {
          "base_uri": "https://localhost:8080/"
        },
        "id": "djRirwXP5SWY",
        "outputId": "54632718-605f-4f45-97ab-99a162675637"
      },
      "outputs": [
        {
          "name": "stdout",
          "output_type": "stream",
          "text": [
            "            id   q1   q2   q3   q4   q5   q6   q7   q8   q9  q10  class\n",
            "0          1.0  3.0  2.0  2.0  2.0  3.0  0.0  0.0  0.0  0.0  3.0    3.0\n",
            "1          2.0  0.0  3.0  0.0  0.0  0.0  3.0  0.0  0.0  0.0  0.0    1.0\n",
            "2          3.0  0.0  0.0  0.0  0.0  0.0  0.0  0.0  0.0  0.0  0.0    0.0\n",
            "3          4.0  2.0  1.0  1.0  2.0  0.0  0.0  2.0  3.0  0.0  3.0    2.0\n",
            "4          5.0  1.0  3.0  1.0  1.0  2.0  1.0  2.0  3.0  0.0  1.0    3.0\n",
            "...        ...  ...  ...  ...  ...  ...  ...  ...  ...  ...  ...    ...\n",
            "15918  15919.0  2.0  0.0  3.0  1.0  0.0  3.0  1.0  1.0  2.0  0.0    2.0\n",
            "15919  15920.0  2.0  0.0  0.0  3.0  0.0  3.0  2.0  3.0  3.0  3.0    3.0\n",
            "15920  15921.0  3.0  3.0  3.0  3.0  2.0  0.0  0.0  2.0  1.0  0.0    3.0\n",
            "15921  15922.0  2.0  3.0  1.0  3.0  2.0  0.0  3.0  3.0  2.0  0.0    3.0\n",
            "15922  15923.0  0.0  0.0  2.0  3.0  0.0  3.0  3.0  0.0  2.0  3.0    3.0\n",
            "\n",
            "[15923 rows x 12 columns]\n"
          ]
        }
      ],
      "source": [
        "for i in df.columns:\n",
        " df[i].fillna(df[i].mode()[0], inplace=True) #we used mode when categorical data and it preserves distribution  , mean is best when there is normal distribution and median is best for outliers case\n",
        "print(df)"
      ]
    },
    {
      "cell_type": "code",
      "execution_count": null,
      "metadata": {
        "id": "vwteurGzzaZe"
      },
      "outputs": [],
      "source": [
        "from sklearn.model_selection import train_test_split\n"
      ]
    },
    {
      "cell_type": "code",
      "execution_count": null,
      "metadata": {
        "id": "40fsB1Mqzq1z"
      },
      "outputs": [],
      "source": [
        "X=df[['q1', 'q2', 'q3', 'q4','q5', 'q6', 'q7', 'q8','q9','q10']]  # Features\n",
        "y=df['class']"
      ]
    },
    {
      "cell_type": "code",
      "execution_count": null,
      "metadata": {
        "id": "6Z4ZMA0_7p-U"
      },
      "outputs": [],
      "source": [
        "X_train, X_test, y_train, y_test = train_test_split(X, y, test_size=0.3) #30% for testing data"
      ]
    },
    {
      "cell_type": "code",
      "execution_count": null,
      "metadata": {
        "id": "jooPjimw73FC"
      },
      "outputs": [],
      "source": [
        "from sklearn.ensemble import RandomForestClassifier\n"
      ]
    },
    {
      "cell_type": "code",
      "execution_count": null,
      "metadata": {
        "id": "yHXLa9yg76kc"
      },
      "outputs": [],
      "source": [
        "#Create a Gaussian Classifier\n",
        "clf=RandomForestClassifier(n_estimators=100)"
      ]
    },
    {
      "cell_type": "markdown",
      "metadata": {
        "id": "sI5geeHM89Vp"
      },
      "source": []
    },
    {
      "cell_type": "code",
      "execution_count": null,
      "metadata": {
        "id": "6mi7dQ7-8Ci7"
      },
      "outputs": [],
      "source": [
        "#Train the model using the training sets y_pred=clf.predict(X_test)\n",
        "clf.fit(X_train,y_train)\n",
        "\n",
        "y_pred=clf.predict(X_test)// predict labels "
      ]
    },
    {
      "cell_type": "code",
      "execution_count": null,
      "metadata": {
        "colab": {
          "base_uri": "https://localhost:8080/"
        },
        "id": "PKY3JGGM8EN_",
        "outputId": "4aae182f-634c-49ef-b2b9-a2cdb20ef053"
      },
      "outputs": [
        {
          "name": "stdout",
          "output_type": "stream",
          "text": [
            "Accuracy: 0.8944944525853046\n"
          ]
        }
      ],
      "source": [
        "#Import scikit-learn metrics module for accuracy calculation\n",
        "from sklearn import metrics\n",
        "# Model Accuracy, how often is the classifier correct?\n",
        "print(\"Accuracy:\",metrics.accuracy_score(y_test, y_pred))"
      ]
    },
    {
      "cell_type": "code",
      "execution_count": null,
      "metadata": {
        "colab": {
          "base_uri": "https://localhost:8080/"
        },
        "id": "ejvRw8zA8WAO",
        "outputId": "a8620af7-6656-4720-9b63-40aa34ddbe73"
      },
      "outputs": [
        {
          "name": "stderr",
          "output_type": "stream",
          "text": [
            "/usr/local/lib/python3.7/dist-packages/sklearn/base.py:451: UserWarning: X does not have valid feature names, but RandomForestClassifier was fitted with feature names\n",
            "  \"X does not have valid feature names, but\"\n"
          ]
        },
        {
          "data": {
            "text/plain": [
              "array([1.])"
            ]
          },
          "execution_count": 133,
          "metadata": {},
          "output_type": "execute_result"
        }
      ],
      "source": [
        "clf.predict([[0,3,0,0,0,3,0,0,0,0]])"
      ]
    },
    {
      "cell_type": "code",
      "execution_count": null,
      "metadata": {
        "colab": {
          "base_uri": "https://localhost:8080/"
        },
        "id": "iBd6ZLvY8ym8",
        "outputId": "1d21a908-5053-40be-ff22-f1d6de3d11a0"
      },
      "outputs": [
        {
          "name": "stderr",
          "output_type": "stream",
          "text": [
            "/usr/local/lib/python3.7/dist-packages/sklearn/base.py:451: UserWarning: X does not have valid feature names, but RandomForestClassifier was fitted with feature names\n",
            "  \"X does not have valid feature names, but\"\n"
          ]
        },
        {
          "data": {
            "text/plain": [
              "array([3.])"
            ]
          },
          "execution_count": 134,
          "metadata": {},
          "output_type": "execute_result"
        }
      ],
      "source": [
        "clf.predict([[2,0,0,3,0,3,2,3,3,3]])"
      ]
    },
    {
      "cell_type": "code",
      "execution_count": null,
      "metadata": {
        "id": "l00nFxzkOD-H"
      },
      "outputs": [],
      "source": [
        "import pickle"
      ]
    },
    {
      "cell_type": "code",
      "execution_count": null,
      "metadata": {
        "id": "Rh0cmCj9OGhn"
      },
      "outputs": [],
      "source": [
        "with open('model_pkl.pkl', 'wb') as files: pickle.dump(clf,files)"
      ]
    }
  ],
  "metadata": {
    "colab": {
      "collapsed_sections": [],
      "name": "depression_model.ipynb",
      "provenance": []
    },
    "kernelspec": {
      "display_name": "Python 3",
      "name": "python3"
    },
    "language_info": {
      "name": "python"
    }
  },
  "nbformat": 4,
  "nbformat_minor": 0
}
